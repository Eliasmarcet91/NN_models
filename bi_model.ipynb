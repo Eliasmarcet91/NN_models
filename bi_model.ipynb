{
  "nbformat": 4,
  "nbformat_minor": 0,
  "metadata": {
    "colab": {
      "provenance": []
    },
    "kernelspec": {
      "name": "python3",
      "display_name": "Python 3"
    },
    "language_info": {
      "name": "python"
    }
  },
  "cells": [
    {
      "cell_type": "code",
      "execution_count": 14,
      "metadata": {
        "colab": {
          "base_uri": "https://localhost:8080/"
        },
        "id": "GJZrN1vezkhf",
        "outputId": "d5f74e97-74cd-4456-c69b-8154a7f60aa7"
      },
      "outputs": [
        {
          "output_type": "stream",
          "name": "stdout",
          "text": [
            "{'Adelie': 0, 'Gentoo': 1}\n",
            "(182, 5) (91, 5) (182,) (91,)\n",
            "Test Accuracy: 0.967\n",
            "1/1 [==============================] - 0s 68ms/step\n",
            "Predicted Penguin: 1.0\n"
          ]
        },
        {
          "output_type": "stream",
          "name": "stderr",
          "text": [
            "/usr/local/lib/python3.10/dist-packages/keras/src/engine/training.py:3103: UserWarning: You are saving your model as an HDF5 file via `model.save()`. This file format is considered legacy. We recommend using instead the native Keras format, e.g. `model.save('my_model.keras')`.\n",
            "  saving_api.save_model(\n"
          ]
        }
      ],
      "source": [
        "# mlp for binary classification\n",
        "from pandas import read_csv\n",
        "from sklearn.model_selection import train_test_split\n",
        "from sklearn.preprocessing import LabelEncoder\n",
        "from tensorflow.keras import Sequential\n",
        "from tensorflow.keras.layers import Dense\n",
        "# load the dataset\n",
        "path = 'https://raw.githubusercontent.com/Eliasmarcet91/datasets/main/penguins_binary_classification.csv'\n",
        "\n",
        "df = read_csv(path, header=1)\n",
        "\n",
        "\n",
        "# drop the 'island' column\n",
        "df.drop(columns=[df.columns[1]], inplace=True)\n",
        "df.head()\n",
        "\n",
        "# Split into input and output columns\n",
        "X = df.values[:, 1:]\n",
        "y = df.values[:, 0]\n",
        "\n",
        "# Ensure all data are floating point values\n",
        "X = X.astype('float32')\n",
        "\n",
        "# encode strings to integer\n",
        "encoder = LabelEncoder()\n",
        "y = encoder.fit_transform(y)\n",
        "\n",
        "mapping = dict(zip(encoder.classes_, range(len(encoder.classes_))))\n",
        "print(mapping)\n",
        "\n",
        "# split into train and test datasets\n",
        "X_train, X_test, y_train, y_test = train_test_split(X, y, test_size=0.33)\n",
        "print(X_train.shape, X_test.shape, y_train.shape, y_test.shape)\n",
        "\n",
        "# determine the number of input features\n",
        "n_features = X_train.shape[1]\n",
        "\n",
        "# define model\n",
        "bi_model = Sequential()\n",
        "bi_model.add(Dense(10, activation='relu', kernel_initializer='he_normal', input_shape=(n_features,)))\n",
        "bi_model.add(Dense(8, activation='relu', kernel_initializer='he_normal'))\n",
        "bi_model.add(Dense(1, activation='sigmoid'))\n",
        "\n",
        "# compile the model\n",
        "bi_model.compile(optimizer='adam', loss='binary_crossentropy', metrics=['accuracy'])\n",
        "\n",
        "# fit the model\n",
        "bi_model.fit(X_train, y_train, epochs=150, batch_size=32, verbose=0)\n",
        "\n",
        "# evaluate the model\n",
        "loss, acc = bi_model.evaluate(X_test, y_test, verbose=0)\n",
        "print('Test Accuracy: %.3f' % acc)\n",
        "\n",
        "# Make a prediction\n",
        "row = [39.5, 20.4, 200.0, 40001, 2009]\n",
        "#row = [39.5, 17.4, 186.0, 3500, 2009]\n",
        "\n",
        "# Reshape the input data to a 2D array\n",
        "row = [row]\n",
        "\n",
        "# Predict\n",
        "yhat = bi_model.predict(row)\n",
        "\n",
        "# Access the predicted value\n",
        "predicted_value = yhat[0][0]\n",
        "\n",
        "# Print the predicted value\n",
        "print('Predicted Penguin: %.1f' % predicted_value)\n",
        "\n",
        "bi_model.save('bi_model.h5')"
      ]
    },
    {
      "cell_type": "code",
      "source": [
        "model.save('reg_model.h5')"
      ],
      "metadata": {
        "colab": {
          "base_uri": "https://localhost:8080/"
        },
        "id": "ZN1-yxaqzq9X",
        "outputId": "29e8d9fe-45ac-489f-c1e3-580a055b1e58"
      },
      "execution_count": 10,
      "outputs": [
        {
          "output_type": "stream",
          "name": "stderr",
          "text": [
            "/usr/local/lib/python3.10/dist-packages/keras/src/engine/training.py:3103: UserWarning: You are saving your model as an HDF5 file via `model.save()`. This file format is considered legacy. We recommend using instead the native Keras format, e.g. `model.save('my_model.keras')`.\n",
            "  saving_api.save_model(\n"
          ]
        }
      ]
    }
  ]
}