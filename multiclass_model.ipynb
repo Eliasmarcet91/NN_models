{
  "nbformat": 4,
  "nbformat_minor": 0,
  "metadata": {
    "colab": {
      "provenance": []
    },
    "kernelspec": {
      "name": "python3",
      "display_name": "Python 3"
    },
    "language_info": {
      "name": "python"
    }
  },
  "cells": [
    {
      "cell_type": "code",
      "execution_count": 15,
      "metadata": {
        "colab": {
          "base_uri": "https://localhost:8080/"
        },
        "id": "GJZrN1vezkhf",
        "outputId": "119f2dad-07a1-4c06-e3d4-d95bce078d37"
      },
      "outputs": [
        {
          "output_type": "stream",
          "name": "stdout",
          "text": [
            "{'Dropout': 0, 'Enrolled': 1, 'Graduate': 2}\n",
            "(2963, 36) (1460, 36) (2963,) (1460,)\n",
            "Epoch 1/15\n",
            "297/297 [==============================] - 3s 3ms/step - loss: 104.9848 - accuracy: 0.3982\n",
            "Epoch 2/15\n",
            "297/297 [==============================] - 1s 5ms/step - loss: 7.7854 - accuracy: 0.4772\n",
            "Epoch 3/15\n",
            "297/297 [==============================] - 1s 2ms/step - loss: 1.0251 - accuracy: 0.4917\n",
            "Epoch 4/15\n",
            "297/297 [==============================] - 1s 3ms/step - loss: 1.0215 - accuracy: 0.4917\n",
            "Epoch 5/15\n",
            "297/297 [==============================] - 1s 3ms/step - loss: 1.0223 - accuracy: 0.4917\n",
            "Epoch 6/15\n",
            "297/297 [==============================] - 1s 3ms/step - loss: 1.0222 - accuracy: 0.4917\n",
            "Epoch 7/15\n",
            "297/297 [==============================] - 1s 2ms/step - loss: 1.0220 - accuracy: 0.4917\n",
            "Epoch 8/15\n",
            "297/297 [==============================] - 1s 2ms/step - loss: 1.0222 - accuracy: 0.4917\n",
            "Epoch 9/15\n",
            "297/297 [==============================] - 1s 2ms/step - loss: 1.0224 - accuracy: 0.4917\n",
            "Epoch 10/15\n",
            "297/297 [==============================] - 1s 2ms/step - loss: 1.0223 - accuracy: 0.4917\n",
            "Epoch 11/15\n",
            "297/297 [==============================] - 1s 2ms/step - loss: 1.0225 - accuracy: 0.4917\n",
            "Epoch 12/15\n",
            "297/297 [==============================] - 1s 2ms/step - loss: 1.0238 - accuracy: 0.4917\n",
            "Epoch 13/15\n",
            "297/297 [==============================] - 1s 2ms/step - loss: 1.0222 - accuracy: 0.4917\n",
            "Epoch 14/15\n",
            "297/297 [==============================] - 1s 2ms/step - loss: 1.0227 - accuracy: 0.4917\n",
            "Epoch 15/15\n",
            "297/297 [==============================] - 1s 2ms/step - loss: 1.0225 - accuracy: 0.4917\n",
            "Test Accuracy: 0.515\n",
            "1/1 [==============================] - 0s 72ms/step\n",
            "Predicted: [[0.32747355 0.17761531 0.49491113]] (class=2)\n"
          ]
        }
      ],
      "source": [
        "# mlp for multiclass classification\n",
        "from numpy import argmax\n",
        "from pandas import read_csv\n",
        "from sklearn.model_selection import train_test_split\n",
        "from sklearn.preprocessing import LabelEncoder\n",
        "from tensorflow.keras import Sequential\n",
        "from tensorflow.keras.layers import Dense\n",
        "from keras.optimizers import Adam\n",
        "from keras.regularizers import l2\n",
        "from keras.layers import Dropout\n",
        "\n",
        "\n",
        "# load the dataset\n",
        "path = 'https://raw.githubusercontent.com/Eliasmarcet91/datasets/main/data.csv'\n",
        "\n",
        "# df = read_csv(path, header=None)\n",
        "df = read_csv(path, header=1, sep= ';') #if the data doesnt look good ensure you reference the CSV delimiter character\n",
        "# split into input and output columns\n",
        "X, y = df.values[:, :-1], df.values[:, -1]\n",
        "df.head()\n",
        "# Data Preprocessing\n",
        "# encode strings to integer\n",
        "encoder = LabelEncoder()\n",
        "y = encoder.fit_transform(y)\n",
        "\n",
        "mapping = dict(zip(encoder.classes_, range(len(encoder.classes_))))\n",
        "print(mapping)\n",
        "\n",
        "X = X.astype('float32')\n",
        "\n",
        "# split into train and test datasets\n",
        "X_train, X_test, y_train, y_test = train_test_split(X, y, test_size=0.33)\n",
        "print(X_train.shape, X_test.shape, y_train.shape, y_test.shape)\n",
        "\n",
        "# Define the input shape as a tuple\n",
        "input_shape = (X_train.shape[1],)  # Use the number of features as the input shape\n",
        "\n",
        "\n",
        "# Define model\n",
        "# Define model with L2 regularization\n",
        "model = Sequential()\n",
        "model.add(Dense(100, activation='relu', kernel_initializer='he_normal',input_shape=input_shape))\n",
        "model.add(Dense(50, activation='relu', kernel_initializer='he_normal')),\n",
        "model.add(Dense(8, activation='relu', kernel_initializer='he_normal')),\n",
        "model.add(Dense(3, activation='softmax'))\n",
        "\n",
        "\n",
        "\n",
        "# compile the model\n",
        "optimizer = Adam(learning_rate=0.01)\n",
        "model.compile(optimizer=optimizer, loss='sparse_categorical_crossentropy', metrics=['accuracy'])\n",
        "\n",
        "# fit the model\n",
        "model.fit(X_train, y_train, epochs=15, batch_size=10, verbose=1)\n",
        "\n",
        "# evaluate the model\n",
        "loss, acc = model.evaluate(X_test, y_test, verbose=0)\n",
        "print('Test Accuracy: %.3f' % acc)\n",
        "\n",
        "\n",
        "\n",
        "# make a prediction\n",
        "row = [1,10,1,911,1,1,10.0,1,1,3,5,5,1.4,0,0,0,0,0,0,0,0,0,6,0,0,1.0,0,0,0,0,0,13.8,0,12.4,0.5,0.79]\n",
        "model_prediction = model.predict([row])\n",
        "print('Predicted: %s (class=%d)' % (model_prediction, argmax(model_prediction)))"
      ]
    },
    {
      "cell_type": "code",
      "source": [
        "model.save('multiclass_model.h5')"
      ],
      "metadata": {
        "colab": {
          "base_uri": "https://localhost:8080/"
        },
        "id": "ZN1-yxaqzq9X",
        "outputId": "1b7a1ee9-cba6-467a-abe1-f55483fcf570"
      },
      "execution_count": 16,
      "outputs": [
        {
          "output_type": "stream",
          "name": "stderr",
          "text": [
            "/usr/local/lib/python3.10/dist-packages/keras/src/engine/training.py:3103: UserWarning: You are saving your model as an HDF5 file via `model.save()`. This file format is considered legacy. We recommend using instead the native Keras format, e.g. `model.save('my_model.keras')`.\n",
            "  saving_api.save_model(\n"
          ]
        }
      ]
    }
  ]
}