{
  "nbformat": 4,
  "nbformat_minor": 0,
  "metadata": {
    "colab": {
      "provenance": []
    },
    "kernelspec": {
      "name": "python3",
      "display_name": "Python 3"
    },
    "language_info": {
      "name": "python"
    }
  },
  "cells": [
    {
      "cell_type": "code",
      "execution_count": 8,
      "metadata": {
        "colab": {
          "base_uri": "https://localhost:8080/"
        },
        "id": "GJZrN1vezkhf",
        "outputId": "69eb53ce-5725-4899-d506-baf3ea55a611"
      },
      "outputs": [
        {
          "output_type": "stream",
          "name": "stderr",
          "text": [
            "WARNING:tensorflow:5 out of the last 13 calls to <function Model.make_test_function.<locals>.test_function at 0x7f012bb340d0> triggered tf.function retracing. Tracing is expensive and the excessive number of tracings could be due to (1) creating @tf.function repeatedly in a loop, (2) passing tensors with different shapes, (3) passing Python objects instead of tensors. For (1), please define your @tf.function outside of the loop. For (2), @tf.function has reduce_retracing=True option that can avoid unnecessary retracing. For (3), please refer to https://www.tensorflow.org/guide/function#controlling_retracing and https://www.tensorflow.org/api_docs/python/tf/function for  more details.\n",
            "WARNING:tensorflow:5 out of the last 5 calls to <function Model.make_predict_function.<locals>.predict_function at 0x7f012bb36290> triggered tf.function retracing. Tracing is expensive and the excessive number of tracings could be due to (1) creating @tf.function repeatedly in a loop, (2) passing tensors with different shapes, (3) passing Python objects instead of tensors. For (1), please define your @tf.function outside of the loop. For (2), @tf.function has reduce_retracing=True option that can avoid unnecessary retracing. For (3), please refer to https://www.tensorflow.org/guide/function#controlling_retracing and https://www.tensorflow.org/api_docs/python/tf/function for  more details.\n"
          ]
        },
        {
          "output_type": "stream",
          "name": "stdout",
          "text": [
            "MSE: 163973600.000, RMSE: 12805.218\n",
            "[[10, 3.3]]\n",
            "1/1 [==============================] - 0s 81ms/step\n",
            "Predicted: 45184.738\n"
          ]
        }
      ],
      "source": [
        "# mlp for regression\n",
        "from numpy import sqrt\n",
        "from pandas import read_csv\n",
        "from sklearn.model_selection import train_test_split\n",
        "from tensorflow.keras import Sequential\n",
        "from tensorflow.keras.layers import Dense\n",
        "from sklearn.model_selection import train_test_split\n",
        "from sklearn.preprocessing import LabelEncoder\n",
        "\n",
        "# load the dataset\n",
        "path = \"https://raw.githubusercontent.com/Eliasmarcet91/datasets/main/Salary_dataset.csv\"\n",
        "df = read_csv(path, header=1)\n",
        "\n",
        "df.head()\n",
        "df.dropna()\n",
        "df.drop(df.columns[0], axis=1)\n",
        "\n",
        "# Ensure all data are floating point values\n",
        "# X = X.astype('float32')\n",
        "\n",
        "# Split into input and output columns\n",
        "X, y = df.values[:, :-1], df.values[:, -1]\n",
        "\n",
        "# Split into train and test datasets\n",
        "X_train, X_test, y_train, y_test = train_test_split(X, y, test_size=0.33)\n",
        "\n",
        "# Determine the number of input features\n",
        "n_features = X_train.shape[1]\n",
        "\n",
        "# Define model\n",
        "model = Sequential()\n",
        "model.add(Dense(150, activation='relu', kernel_initializer='he_normal', input_shape=(n_features,)))\n",
        "model.add(Dense(100, activation='relu', kernel_initializer='he_normal'))\n",
        "model.add(Dense(8, activation='relu', kernel_initializer='he_normal'))\n",
        "model.add(Dense(1))\n",
        "\n",
        "# Compile the model\n",
        "model.compile(optimizer='adam', loss='mse')\n",
        "\n",
        "# Fit the model\n",
        "model.fit(X_train, y_train, epochs=100, batch_size=5, verbose=0)\n",
        "\n",
        "# Evaluate the model\n",
        "error = model.evaluate(X_test, y_test, verbose=0)\n",
        "print('MSE: %.3f, RMSE: %.3f' % (error, sqrt(error)))\n",
        "\n",
        "# Make a prediction\n",
        "\n",
        "# Make a prediction\n",
        "row = [[10, 3.3]]  # Ensure input data is in the correct format (2D array)\n",
        "print(row)\n",
        "yhat = model.predict(row)\n",
        "print('Predicted: %.3f' % yhat[0][0])  # Access the prediction value from the result\n"
      ]
    },
    {
      "cell_type": "code",
      "source": [
        "model.save('reg_model.h5')"
      ],
      "metadata": {
        "colab": {
          "base_uri": "https://localhost:8080/"
        },
        "id": "ZN1-yxaqzq9X",
        "outputId": "29e8d9fe-45ac-489f-c1e3-580a055b1e58"
      },
      "execution_count": 10,
      "outputs": [
        {
          "output_type": "stream",
          "name": "stderr",
          "text": [
            "/usr/local/lib/python3.10/dist-packages/keras/src/engine/training.py:3103: UserWarning: You are saving your model as an HDF5 file via `model.save()`. This file format is considered legacy. We recommend using instead the native Keras format, e.g. `model.save('my_model.keras')`.\n",
            "  saving_api.save_model(\n"
          ]
        }
      ]
    }
  ]
}